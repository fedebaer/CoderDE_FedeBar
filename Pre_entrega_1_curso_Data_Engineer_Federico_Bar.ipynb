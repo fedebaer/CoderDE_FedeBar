{
  "nbformat": 4,
  "nbformat_minor": 0,
  "metadata": {
    "colab": {
      "provenance": []
    },
    "kernelspec": {
      "name": "python3",
      "display_name": "Python 3"
    },
    "language_info": {
      "name": "python"
    }
  },
  "cells": [
    {
      "cell_type": "code",
      "execution_count": null,
      "metadata": {
        "colab": {
          "base_uri": "https://localhost:8080/"
        },
        "id": "Ni-o-g0yXK-i",
        "outputId": "9f3681a5-4d4c-418c-9649-62b06ff82a85"
      },
      "outputs": [
        {
          "output_type": "stream",
          "name": "stdout",
          "text": [
            "Collecting openmeteo-requests\n",
            "  Downloading openmeteo_requests-1.2.0-py3-none-any.whl (5.5 kB)\n",
            "Collecting openmeteo-sdk>=1.4.0 (from openmeteo-requests)\n",
            "  Downloading openmeteo_sdk-1.11.3-py3-none-any.whl (12 kB)\n",
            "Requirement already satisfied: requests in /usr/local/lib/python3.10/dist-packages (from openmeteo-requests) (2.31.0)\n",
            "Requirement already satisfied: flatbuffers>=24.0.0 in /usr/local/lib/python3.10/dist-packages (from openmeteo-sdk>=1.4.0->openmeteo-requests) (24.3.25)\n",
            "Requirement already satisfied: charset-normalizer<4,>=2 in /usr/local/lib/python3.10/dist-packages (from requests->openmeteo-requests) (3.3.2)\n",
            "Requirement already satisfied: idna<4,>=2.5 in /usr/local/lib/python3.10/dist-packages (from requests->openmeteo-requests) (3.6)\n",
            "Requirement already satisfied: urllib3<3,>=1.21.1 in /usr/local/lib/python3.10/dist-packages (from requests->openmeteo-requests) (2.0.7)\n",
            "Requirement already satisfied: certifi>=2017.4.17 in /usr/local/lib/python3.10/dist-packages (from requests->openmeteo-requests) (2024.2.2)\n",
            "Installing collected packages: openmeteo-sdk, openmeteo-requests\n",
            "Successfully installed openmeteo-requests-1.2.0 openmeteo-sdk-1.11.3\n"
          ]
        }
      ],
      "source": [
        "pip install openmeteo-requests"
      ]
    },
    {
      "cell_type": "code",
      "source": [
        "pip install requests-cache retry-requests numpy pandas"
      ],
      "metadata": {
        "colab": {
          "base_uri": "https://localhost:8080/"
        },
        "id": "G_3jQ-YEXnh3",
        "outputId": "bd1fdfe6-8a64-4a53-fd85-e1cd3abdefd5"
      },
      "execution_count": null,
      "outputs": [
        {
          "output_type": "stream",
          "name": "stdout",
          "text": [
            "Collecting requests-cache\n",
            "  Downloading requests_cache-1.2.0-py3-none-any.whl (61 kB)\n",
            "\u001b[2K     \u001b[90m━━━━━━━━━━━━━━━━━━━━━━━━━━━━━━━━━━━━━━━━\u001b[0m \u001b[32m61.4/61.4 kB\u001b[0m \u001b[31m1.7 MB/s\u001b[0m eta \u001b[36m0:00:00\u001b[0m\n",
            "\u001b[?25hCollecting retry-requests\n",
            "  Downloading retry_requests-2.0.0-py3-none-any.whl (15 kB)\n",
            "Requirement already satisfied: numpy in /usr/local/lib/python3.10/dist-packages (1.25.2)\n",
            "Requirement already satisfied: pandas in /usr/local/lib/python3.10/dist-packages (1.5.3)\n",
            "Requirement already satisfied: attrs>=21.2 in /usr/local/lib/python3.10/dist-packages (from requests-cache) (23.2.0)\n",
            "Collecting cattrs>=22.2 (from requests-cache)\n",
            "  Downloading cattrs-23.2.3-py3-none-any.whl (57 kB)\n",
            "\u001b[2K     \u001b[90m━━━━━━━━━━━━━━━━━━━━━━━━━━━━━━━━━━━━━━━━\u001b[0m \u001b[32m57.5/57.5 kB\u001b[0m \u001b[31m4.8 MB/s\u001b[0m eta \u001b[36m0:00:00\u001b[0m\n",
            "\u001b[?25hRequirement already satisfied: platformdirs>=2.5 in /usr/local/lib/python3.10/dist-packages (from requests-cache) (4.2.0)\n",
            "Requirement already satisfied: requests>=2.22 in /usr/local/lib/python3.10/dist-packages (from requests-cache) (2.31.0)\n",
            "Collecting url-normalize>=1.4 (from requests-cache)\n",
            "  Downloading url_normalize-1.4.3-py2.py3-none-any.whl (6.8 kB)\n",
            "Requirement already satisfied: urllib3>=1.25.5 in /usr/local/lib/python3.10/dist-packages (from requests-cache) (2.0.7)\n",
            "Requirement already satisfied: python-dateutil>=2.8.1 in /usr/local/lib/python3.10/dist-packages (from pandas) (2.8.2)\n",
            "Requirement already satisfied: pytz>=2020.1 in /usr/local/lib/python3.10/dist-packages (from pandas) (2023.4)\n",
            "Requirement already satisfied: exceptiongroup>=1.1.1 in /usr/local/lib/python3.10/dist-packages (from cattrs>=22.2->requests-cache) (1.2.0)\n",
            "Requirement already satisfied: typing-extensions!=4.6.3,>=4.1.0 in /usr/local/lib/python3.10/dist-packages (from cattrs>=22.2->requests-cache) (4.10.0)\n",
            "Requirement already satisfied: six>=1.5 in /usr/local/lib/python3.10/dist-packages (from python-dateutil>=2.8.1->pandas) (1.16.0)\n",
            "Requirement already satisfied: charset-normalizer<4,>=2 in /usr/local/lib/python3.10/dist-packages (from requests>=2.22->requests-cache) (3.3.2)\n",
            "Requirement already satisfied: idna<4,>=2.5 in /usr/local/lib/python3.10/dist-packages (from requests>=2.22->requests-cache) (3.6)\n",
            "Requirement already satisfied: certifi>=2017.4.17 in /usr/local/lib/python3.10/dist-packages (from requests>=2.22->requests-cache) (2024.2.2)\n",
            "Installing collected packages: url-normalize, cattrs, retry-requests, requests-cache\n",
            "Successfully installed cattrs-23.2.3 requests-cache-1.2.0 retry-requests-2.0.0 url-normalize-1.4.3\n"
          ]
        }
      ]
    },
    {
      "cell_type": "code",
      "source": [
        "# Creando la conexión a Redsshift\n",
        "import psycopg2\n",
        "url=\"data-engineer-cluster.cyhh5bfevlmn.us-east-1.redshift.amazonaws.com\"\n",
        "data_base=\"data-engineer-database\"\n",
        "user=\"fedebaer_coderhouse\"\n",
        "with open(\"C:\\Fede\\Data Engineer Coderhouse\\pwd_redshift_fd.txt\",'r') as f:\n",
        "    pwd= f.read()\n",
        "try:\n",
        "    conn = psycopg2.connect(\n",
        "        host='data-engineer-cluster.cyhh5bfevlmn.us-east-1.redshift.amazonaws.com',\n",
        "        dbname=data_base,\n",
        "        user=user,\n",
        "        password=pwd,\n",
        "        port='5439'\n",
        "    )\n",
        "    print(\"Conectado a Redshift con éxito!\")\n",
        "\n",
        "except Exception as e:\n",
        "    print(\"No es posible conectar a Redshift\")\n",
        "    print(e)"
      ],
      "metadata": {
        "colab": {
          "base_uri": "https://localhost:8080/"
        },
        "id": "5cVC5_2CFAC3",
        "outputId": "6d48891c-b8b2-4c34-e6ea-3fce9e3e0000"
      },
      "execution_count": null,
      "outputs": [
        {
          "output_type": "stream",
          "name": "stdout",
          "text": [
            "Conectado a Redshift con éxito!\n"
          ]
        }
      ]
    },
    {
      "cell_type": "code",
      "source": [
        "#Crear la tabla en redshift si no existe\n",
        "with conn.cursor() as cur:\n",
        "    cur.execute(\"\"\"\n",
        "        CREATE TABLE IF NOT EXISTS fedebaer_coderhouse.daily_weather(\n",
        "        m_date datetime null,\n",
        "        weather_code float null,\n",
        "        temperature_2m_max float null,\n",
        "        temperature_2m_min float null,\n",
        "        apparent_temperature_max float null,\n",
        "        apparent_temperature_min float null,\n",
        "        sunrise float null,\n",
        "        sunset float null,\n",
        "        daylight_duration float null,\n",
        "        sunshine_duration float null,\n",
        "        precipitation_sum float null,\n",
        "        rain_sum float null,\n",
        "        showers_sum float null,\n",
        "        snowfall_sum float null,\n",
        "        precipitation_hours float null,\n",
        "        precipitation_probability_max float null\n",
        "        )\n",
        "    \"\"\")\n",
        "    conn.commit()"
      ],
      "metadata": {
        "id": "-AM0VOK8LJIu"
      },
      "execution_count": null,
      "outputs": []
    },
    {
      "cell_type": "code",
      "source": [
        "# Conexión con la API de clima\n",
        "import openmeteo_requests\n",
        "import requests_cache\n",
        "import pandas as pd\n",
        "from retry_requests import retry\n",
        "\n",
        "# Setup the Open-Meteo API client with cache and retry on error\n",
        "cache_session = requests_cache.CachedSession('.cache', expire_after = 3600)\n",
        "retry_session = retry(cache_session, retries = 5, backoff_factor = 0.2)\n",
        "openmeteo = openmeteo_requests.Client(session = retry_session)\n",
        "\n",
        "# weather variables list\n",
        "url = \"https://api.open-meteo.com/v1/forecast\"\n",
        "params = {\n",
        "\t\"latitude\": [-32.8908],\n",
        "\t\"longitude\": [-68.8272],\n",
        "\t\"daily\": [\"weather_code\", \"temperature_2m_max\", \"temperature_2m_min\", \"apparent_temperature_max\", \"apparent_temperature_min\", \"sunrise\", \"sunset\", \"daylight_duration\", \"sunshine_duration\", \"precipitation_sum\", \"rain_sum\", \"showers_sum\", \"snowfall_sum\", \"precipitation_hours\", \"precipitation_probability_max\"],\n",
        "\t\"timezone\": [\"America/Sao_Paulo\"],\n",
        "\t\"past_days\": 92,\n",
        "\t\"elevation\": [\"NaN\"]\n",
        "}\n",
        "responses = openmeteo.weather_api(url, params=params)\n",
        "\n",
        "# Process first location. Add a for-loop for multiple locations or weather models\n",
        "response = responses[0]\n",
        "print(f\"Coordinates {response.Latitude()}°N {response.Longitude()}°E\")\n",
        "print(f\"Elevation {response.Elevation()} m asl\")\n",
        "print(f\"Timezone {response.Timezone()} {response.TimezoneAbbreviation()}\")\n",
        "print(f\"Timezone difference to GMT+0 {response.UtcOffsetSeconds()} s\")\n",
        "\n",
        "\n",
        "# Process daily data. The order of variables needs to be the same as requested.\n",
        "daily = response.Daily()\n",
        "daily_weather_code = daily.Variables(0).ValuesAsNumpy()\n",
        "daily_temperature_2m_max = daily.Variables(1).ValuesAsNumpy()\n",
        "daily_temperature_2m_min = daily.Variables(2).ValuesAsNumpy()\n",
        "daily_apparent_temperature_max = daily.Variables(3).ValuesAsNumpy()\n",
        "daily_apparent_temperature_min = daily.Variables(4).ValuesAsNumpy()\n",
        "daily_sunrise = daily.Variables(5).ValuesAsNumpy()\n",
        "daily_sunset = daily.Variables(6).ValuesAsNumpy()\n",
        "daily_daylight_duration = daily.Variables(7).ValuesAsNumpy()\n",
        "daily_sunshine_duration = daily.Variables(8).ValuesAsNumpy()\n",
        "daily_precipitation_sum = daily.Variables(9).ValuesAsNumpy()\n",
        "daily_rain_sum = daily.Variables(10).ValuesAsNumpy()\n",
        "daily_showers_sum = daily.Variables(11).ValuesAsNumpy()\n",
        "daily_snowfall_sum = daily.Variables(12).ValuesAsNumpy()\n",
        "daily_precipitation_hours = daily.Variables(13).ValuesAsNumpy()\n",
        "daily_precipitation_probability_max = daily.Variables(14).ValuesAsNumpy()\n",
        "\n",
        "daily_data = {\"date\": pd.date_range(\n",
        "\tstart = pd.to_datetime(daily.Time(), unit = \"s\", utc = True),\n",
        "\tend = pd.to_datetime(daily.TimeEnd(), unit = \"s\", utc = True),\n",
        "\tfreq = pd.Timedelta(seconds = daily.Interval()),\n",
        "\tinclusive = \"left\"\n",
        ")}\n",
        "daily_data[\"weather_code\"] = daily_weather_code\n",
        "daily_data[\"temperature_2m_max\"] = daily_temperature_2m_max\n",
        "daily_data[\"temperature_2m_min\"] = daily_temperature_2m_min\n",
        "daily_data[\"apparent_temperature_max\"] = daily_apparent_temperature_max\n",
        "daily_data[\"apparent_temperature_min\"] = daily_apparent_temperature_min\n",
        "daily_data[\"sunrise\"] = daily_sunrise\n",
        "daily_data[\"sunset\"] = daily_sunset\n",
        "daily_data[\"daylight_duration\"] = daily_daylight_duration\n",
        "daily_data[\"sunshine_duration\"] = daily_sunshine_duration\n",
        "daily_data[\"precipitation_sum\"] = daily_precipitation_sum\n",
        "daily_data[\"rain_sum\"] = daily_rain_sum\n",
        "daily_data[\"showers_sum\"] = daily_showers_sum\n",
        "daily_data[\"snowfall_sum\"] = daily_snowfall_sum\n",
        "daily_data[\"precipitation_hours\"] = daily_precipitation_hours\n",
        "daily_data[\"precipitation_probability_max\"] = daily_precipitation_probability_max\n",
        "\n",
        "daily_dataframe = pd.DataFrame(data = daily_data)\n",
        "print(daily_dataframe)"
      ],
      "metadata": {
        "colab": {
          "base_uri": "https://localhost:8080/"
        },
        "id": "YySbzH68YKmZ",
        "outputId": "1f2e2aa0-9400-4049-e47a-0474ff937ecf"
      },
      "execution_count": null,
      "outputs": [
        {
          "output_type": "stream",
          "name": "stdout",
          "text": [
            "Coordinates -32.875°N -68.875°E\n",
            "Elevation 1188.0 m asl\n",
            "Timezone b'America/Sao_Paulo' b'-03'\n",
            "Timezone difference to GMT+0 -10800 s\n",
            "                        date  weather_code  temperature_2m_max  \\\n",
            "0  2023-12-31 03:00:00+00:00          80.0           27.450001   \n",
            "1  2024-01-01 03:00:00+00:00           3.0           28.799999   \n",
            "2  2024-01-02 03:00:00+00:00          80.0           28.549999   \n",
            "3  2024-01-03 03:00:00+00:00          80.0           28.549999   \n",
            "4  2024-01-04 03:00:00+00:00          80.0           31.000000   \n",
            "..                       ...           ...                 ...   \n",
            "94 2024-04-03 03:00:00+00:00           2.0           18.700001   \n",
            "95 2024-04-04 03:00:00+00:00           1.0           21.450001   \n",
            "96 2024-04-05 03:00:00+00:00           1.0           21.650000   \n",
            "97 2024-04-06 03:00:00+00:00           0.0           23.200001   \n",
            "98 2024-04-07 03:00:00+00:00           3.0           25.750000   \n",
            "\n",
            "    temperature_2m_min  apparent_temperature_max  apparent_temperature_min  \\\n",
            "0            18.450001                 27.100338                 17.572586   \n",
            "1            15.900000                 25.560078                 16.350296   \n",
            "2            19.500000                 28.141239                 18.100153   \n",
            "3            18.049999                 28.170345                 17.494902   \n",
            "4            19.900000                 31.232231                 19.847204   \n",
            "..                 ...                       ...                       ...   \n",
            "94           12.350000                 15.379070                 11.076537   \n",
            "95           11.600000                 20.663425                 10.399995   \n",
            "96           14.400000                 19.740145                 11.451673   \n",
            "97           12.550000                 21.472916                 10.428788   \n",
            "98           15.600000                 24.409767                 12.298653   \n",
            "\n",
            "    sunrise  sunset  daylight_duration  sunshine_duration  precipitation_sum  \\\n",
            "0         0       0       51412.359375       45784.031250                2.3   \n",
            "1         0       0       51381.566406       47150.890625                0.0   \n",
            "2         0       0       51347.933594       47144.421875                1.9   \n",
            "3         0       0       51311.531250       47144.421875                0.9   \n",
            "4         0       0       51272.421875       46800.000000                0.7   \n",
            "..      ...     ...                ...                ...                ...   \n",
            "94        0       0       41920.894531       38807.640625                0.0   \n",
            "95        0       0       41802.597656       38894.152344                0.0   \n",
            "96        0       0       41684.234375       38772.339844                0.0   \n",
            "97        0       0       41565.878906       38678.484375                0.0   \n",
            "98        0       0       41447.617188       38615.441406                0.0   \n",
            "\n",
            "    rain_sum  showers_sum  snowfall_sum  precipitation_hours  \\\n",
            "0        0.0          2.3           0.0                  6.0   \n",
            "1        0.0          0.0           0.0                  0.0   \n",
            "2        0.0          1.9           0.0                  7.0   \n",
            "3        0.0          0.8           0.0                  4.0   \n",
            "4        0.0          0.7           0.0                  3.0   \n",
            "..       ...          ...           ...                  ...   \n",
            "94       0.0          0.0           0.0                  0.0   \n",
            "95       0.0          0.0           0.0                  0.0   \n",
            "96       0.0          0.0           0.0                  0.0   \n",
            "97       0.0          0.0           0.0                  0.0   \n",
            "98       0.0          0.0           0.0                  0.0   \n",
            "\n",
            "    precipitation_probability_max  \n",
            "0                            58.0  \n",
            "1                            65.0  \n",
            "2                            85.0  \n",
            "3                            94.0  \n",
            "4                            77.0  \n",
            "..                            ...  \n",
            "94                            9.0  \n",
            "95                           10.0  \n",
            "96                            8.0  \n",
            "97                           10.0  \n",
            "98                           16.0  \n",
            "\n",
            "[99 rows x 16 columns]\n"
          ]
        }
      ]
    },
    {
      "cell_type": "code",
      "source": [
        "#Insertando los datos en Redsfhift\n",
        "from psycopg2.extras import execute_values\n",
        "with conn.cursor() as cur:\n",
        "    execute_values(\n",
        "        cur,\n",
        "        '''\n",
        "        INSERT INTO fedebaer_coderhouse.daily_weather (\n",
        "    m_date,\n",
        "    weather_code,\n",
        "    temperature_2m_max,\n",
        "    temperature_2m_min,\n",
        "    apparent_temperature_max,\n",
        "    apparent_temperature_min,\n",
        "    sunrise,\n",
        "    sunset,\n",
        "    daylight_duration,\n",
        "    sunshine_duration,\n",
        "    precipitation_sum,\n",
        "    rain_sum,\n",
        "    showers_sum,\n",
        "    snowfall_sum,\n",
        "    precipitation_hours,\n",
        "    precipitation_probability_max)\n",
        "    VALUES %s\n",
        "        ''',\n",
        "        [tuple(row) for row in daily_dataframe.values],\n",
        "        page_size=len(daily_dataframe)\n",
        "    )\n",
        "    conn.commit()"
      ],
      "metadata": {
        "id": "yNKYX1Q9Jwx-"
      },
      "execution_count": null,
      "outputs": []
    },
    {
      "cell_type": "code",
      "source": [],
      "metadata": {
        "id": "KwrSXDOF1_RF"
      },
      "execution_count": null,
      "outputs": []
    }
  ]
}